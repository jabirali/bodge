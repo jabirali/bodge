{
 "cells": [
  {
   "attachments": {},
   "cell_type": "markdown",
   "metadata": {},
   "source": [
    "# 0-π oscillations in altermagnetic Josephson junctions"
   ]
  },
  {
   "attachments": {},
   "cell_type": "markdown",
   "metadata": {},
   "source": [
    "## Common imports and definitions\n"
   ]
  },
  {
   "cell_type": "code",
   "execution_count": 1,
   "metadata": {},
   "outputs": [
    {
     "name": "stderr",
     "output_type": "stream",
     "text": [
      "\n",
      "Bad key \"text.kerning_factor\" on line 4 in\n",
      "/opt/intel/oneapi/intelpython/latest/lib/python3.9/site-packages/matplotlib/mpl-data/stylelib/_classic_test_patch.mplstyle.\n",
      "You probably need to get an updated matplotlibrc file from\n",
      "https://github.com/matplotlib/matplotlib/blob/v3.1.2/matplotlibrc.template\n",
      "or from the matplotlib source distribution\n"
     ]
    }
   ],
   "source": [
    "import warnings\n",
    "warnings.filterwarnings('ignore')\n",
    "\n",
    "import numpy as np\n",
    "import pandas as pd\n",
    "import matplotlib.pyplot as plt\n",
    "\n",
    "from bodge import *"
   ]
  },
  {
   "attachments": {},
   "cell_type": "markdown",
   "metadata": {},
   "source": [
    "## Lattice construction\n",
    "These functions take lattice coordinates $i, j ∈ \\mathbb{N}^3$ as inputs, and for a given junction type (0º or 45º interfaces) determines whether a region is superconducting, normal metallic, or altermagnetic. Note that these functions depend on some global variables like `DIAG` and `L_SC`, which are used to alter the properties of the junctions investigated below. These variables are declared here but updated below."
   ]
  },
  {
   "cell_type": "code",
   "execution_count": 12,
   "metadata": {},
   "outputs": [],
   "source": [
    "# Whether the system has a diagonal interface.\n",
    "DIAG = False\n",
    "\n",
    "# Dimensions of the cubic lattice.\n",
    "L_X = 0\n",
    "L_Y = 0\n",
    "L_Z = 0\n",
    "\n",
    "# Superconductor length.\n",
    "L_SC = 0 \n",
    "\n",
    "# Normal-metal length.\n",
    "L_NM = 0\n",
    "\n",
    "# Altermagnet length.\n",
    "L_AM = 0"
   ]
  },
  {
   "attachments": {},
   "cell_type": "markdown",
   "metadata": {},
   "source": [
    "This function calculates an \"equivalent x-coordinate\" for junctions with diagonal interfaces, defined as the x-coordinate at the center along the y-axis."
   ]
  },
  {
   "cell_type": "code",
   "execution_count": 13,
   "metadata": {},
   "outputs": [],
   "source": [
    "def diax(i):\n",
    "    return i[0] + (i[1] - L_Y//2) * DIAG"
   ]
  },
  {
   "attachments": {},
   "cell_type": "markdown",
   "metadata": {},
   "source": [
    "These functions check whether a coordinate is superconducting, normal metallic, or altermagnetic."
   ]
  },
  {
   "cell_type": "code",
   "execution_count": 20,
   "metadata": {},
   "outputs": [],
   "source": [
    "def SC1(i):\n",
    "    return diax(i) < L_SC\n",
    "    \n",
    "def SC2(i):\n",
    "    return diax(i) >= L_X - L_SC\n",
    "\n",
    "def NM1(i):\n",
    "    return diax(i) < L_SC + L_NM and not SC1(i)\n",
    "\n",
    "def NM2(i):\n",
    "    return diax(i) >= L_X - L_SC - L_NM and not SC2(i)\n",
    "\n",
    "def AM(i):\n",
    "    return not SC1(i) and not SC2(i) and not NM1(i) and not NM2(i)\n",
    "\n",
    "def probe(i):\n",
    "    return diax(i) == L_SC + L_NM//2"
   ]
  },
  {
   "attachments": {},
   "cell_type": "markdown",
   "metadata": {},
   "source": [
    "We can also define a function for visualizing the lattices, to reduce the chance of errors. The evaluation point for currents is plotted in red."
   ]
  },
  {
   "cell_type": "code",
   "execution_count": 24,
   "metadata": {},
   "outputs": [],
   "source": [
    "def show():\n",
    "    lattice = CubicLattice((L_X, L_Y, L_Z))\n",
    "\n",
    "    fig, ax = plt.subplots()\n",
    "    ax.set_aspect('equal')\n",
    "    ax.set_axis_off()\n",
    "\n",
    "    for i in lattice.sites():\n",
    "        if SC1(i) or SC2(i):\n",
    "            ax.scatter(x=i[0], y=i[1], color='#ff7f00')\n",
    "        if NM1(i) or NM2(i):\n",
    "            ax.scatter(x=i[0], y=i[1], color='k')\n",
    "        if AM(i):\n",
    "            ax.scatter(x=i[0], y=i[1], color='#984ea3')\n",
    "        if probe(i):\n",
    "            ax.scatter(x=i[0], y=i[1], color='#ff0000')\n",
    "\n",
    "    plt.show()"
   ]
  },
  {
   "attachments": {},
   "cell_type": "markdown",
   "metadata": {},
   "source": [
    "Let's test that these work as expected by plotting one diagonal and one non-diagonal lattice."
   ]
  },
  {
   "cell_type": "code",
   "execution_count": 25,
   "metadata": {},
   "outputs": [
    {
     "data": {
      "image/png": "[encoded data removed]",
      "text/plain": [
       "<Figure size 640x480 with 1 Axes>"
      ]
     },
     "metadata": {},
     "output_type": "display_data"
    },
    {
     "data": {
      "image/png": "[encoded data removed]",
      "text/plain": [
       "<Figure size 640x480 with 1 Axes>"
      ]
     },
     "metadata": {},
     "output_type": "display_data"
    }
   ],
   "source": [
    "L_SC = 10 \n",
    "L_NM = 3\n",
    "L_AM = 10\n",
    "\n",
    "L_X = 2 * L_SC + 2 * L_NM + L_AM\n",
    "L_Y = 10\n",
    "L_Z = 1\n",
    "\n",
    "DIAG = True\n",
    "\n",
    "show()\n",
    "\n",
    "DIAG = False\n",
    "\n",
    "show()"
   ]
  }
 ],
 "metadata": {
  "kernelspec": {
   "display_name": "base",
   "language": "python",
   "name": "python3"
  },
  "language_info": {
   "codemirror_mode": {
    "name": "ipython",
    "version": 3
   },
   "file_extension": ".py",
   "mimetype": "text/x-python",
   "name": "python",
   "nbconvert_exporter": "python",
   "pygments_lexer": "ipython3",
   "version": "3.9.13"
  },
  "orig_nbformat": 4,
  "vscode": {
   "interpreter": {
    "hash": "de7c8584ae51fbb089eecc0d6f203cc3cae3114d5c45556091d2c5b63465aa84"
   }
  }
 },
 "nbformat": 4,
 "nbformat_minor": 2
}
